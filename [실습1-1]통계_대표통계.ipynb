{
 "cells": [
  {
   "cell_type": "markdown",
   "id": "d5e91109-0dc7-473e-8714-030b3801703d",
   "metadata": {},
   "source": [
    "##대표 통계량"
   ]
  },
  {
   "cell_type": "code",
   "execution_count": 13,
   "id": "011f0b6b-827d-4814-938d-c0250e85f930",
   "metadata": {},
   "outputs": [],
   "source": [
    "import numpy as np\n",
    "from scipy import stats\n",
    "import pandas as pd"
   ]
  },
  {
   "cell_type": "markdown",
   "id": "5251903c-9b6b-4484-9aeb-43b6380313ab",
   "metadata": {},
   "source": [
    "## 산술평균 계산"
   ]
  },
  {
   "cell_type": "code",
   "execution_count": 16,
   "id": "a8c50412-8038-4646-bf57-801962acae05",
   "metadata": {},
   "outputs": [
    {
     "data": {
      "text/plain": [
       "np.float64(64.0)"
      ]
     },
     "execution_count": 16,
     "metadata": {},
     "output_type": "execute_result"
    }
   ],
   "source": [
    "#성적 평균 구하기\n",
    "x = [70, 60, 80, 60, 50]\n",
    "# sum(x) / len(x)\n",
    "# np.sum(x)/len(x)\n",
    "\n",
    "# array 요소에는 동일한 객체만 저장할 수 있다.\n",
    "np.array(x).mean()\n",
    "\n",
    "# pandas 사용해보기\n",
    "\n",
    "pd.Series(x).mean()"
   ]
  },
  {
   "cell_type": "markdown",
   "id": "9c2bcf4a-9ad9-4efd-befd-df5fbb933c23",
   "metadata": {},
   "source": [
    "## 조화평균 구하기"
   ]
  },
  {
   "cell_type": "code",
   "execution_count": null,
   "id": "3d3d6394-4237-4f7e-937f-42f546705c53",
   "metadata": {},
   "outputs": [],
   "source": [
    "# 거리가 같을 때: 조화평균 (역수의 산술평균의 역수)\n",
    "# 문제: 자동차가 60km를 60km/h로 이동하고, 같은 60km를 40km/h로 이동했을 때 평균 속도는?\n",
    "x = np.array([60, 40])\n",
    "print(len(x) / (1/60 + 1/40))\n",
    "print(len(x) / np.sum(1/x))\n",
    "print(stats.hmean(x))"
   ]
  },
  {
   "cell_type": "code",
   "execution_count": 18,
   "id": "d90581c8-cd0e-4015-a0c3-abd35ca72d57",
   "metadata": {},
   "outputs": [
    {
     "name": "stdout",
     "output_type": "stream",
     "text": [
      "40.0\n"
     ]
    }
   ],
   "source": [
    "# 상황: 두 생산 라인이 동일한 수의 제품(작업량)을 생산하지만, \n",
    "# 각 라인의 처리 속도가 다를 때 평균 처리 속도를 계산하기\n",
    "\n",
    "# 라인 A: 60개/시간, 라인 B: 30개/시간  → 동일 작업량(120개 제품 생산) 처리 시 평균 처리속도\n",
    "\n",
    "y = np.array([60, 30])\n",
    "print(stats.hmean(y))"
   ]
  },
  {
   "cell_type": "markdown",
   "id": "f3713198-61cd-4367-a377-6b48464a2aa1",
   "metadata": {},
   "source": [
    "## 절사평균"
   ]
  },
  {
   "cell_type": "code",
   "execution_count": 28,
   "id": "77de29f8-3b64-4144-8f6b-2d773c8583b8",
   "metadata": {},
   "outputs": [
    {
     "name": "stdout",
     "output_type": "stream",
     "text": [
      "3065650.2\n"
     ]
    }
   ],
   "source": [
    "# 자료 왜곡을막기 위하여\n",
    "\n",
    "# 월 평균이 3백만원이고 표준편차가 50만원인 정규 분포를 따르는 소득을 갖는 100명 생성\n",
    "income = np.random.normal(3000000, 500000, 100) \n",
    "print(round(np.mean(income), 2))"
   ]
  },
  {
   "cell_type": "code",
   "execution_count": 29,
   "id": "39860046-610b-4629-abc5-28f41a7d77ae",
   "metadata": {},
   "outputs": [
    {
     "name": "stdout",
     "output_type": "stream",
     "text": [
      "100000000\n",
      "4025396.23\n"
     ]
    }
   ],
   "source": [
    "# 월 소득이 1억원인 사람의 등장\n",
    "# 100명의 소득이 300만원에 가까운데, 한 명 때문에 대표값인 평균이 약 1300만원에 달함\n",
    "income = np.append(income, 10**8) \n",
    "print(10**8)\n",
    "print(round(np.mean(income), 2)) "
   ]
  },
  {
   "cell_type": "code",
   "execution_count": 30,
   "id": "9b3fd049-1441-425c-8a1c-8235f9fdca3f",
   "metadata": {},
   "outputs": [
    {
     "name": "stdout",
     "output_type": "stream",
     "text": [
      "3050869.54\n"
     ]
    }
   ],
   "source": [
    "print(round(stats.trim_mean(income, 0.2),2)) # [20% ~ 80%]은 제외하고 계산"
   ]
  },
  {
   "cell_type": "markdown",
   "id": "e13d39f2-46a8-431f-bec8-ac94c08618fc",
   "metadata": {},
   "source": [
    "## 최빈값"
   ]
  },
  {
   "cell_type": "code",
   "execution_count": 35,
   "id": "9d9b49cf-25e3-4cf4-b0b9-8c5b65189e39",
   "metadata": {},
   "outputs": [
    {
     "data": {
      "text/plain": [
       "1000"
      ]
     },
     "execution_count": 35,
     "metadata": {},
     "output_type": "execute_result"
    }
   ],
   "source": [
    "x = np.random.choice(['A', 'B', 'C'],1000)\n",
    "x[:5]\n",
    "len(x)"
   ]
  },
  {
   "cell_type": "code",
   "execution_count": 36,
   "id": "ec4d3484-566f-446d-a577-46a9f52c0372",
   "metadata": {},
   "outputs": [
    {
     "data": {
      "text/plain": [
       "array(['A', 'B', 'C'], dtype='<U1')"
      ]
     },
     "execution_count": 36,
     "metadata": {},
     "output_type": "execute_result"
    }
   ],
   "source": [
    "np.unique(x)"
   ]
  },
  {
   "cell_type": "code",
   "execution_count": 37,
   "id": "a0b58c28-f7ac-4271-9d44-08b4188173be",
   "metadata": {},
   "outputs": [
    {
     "data": {
      "text/plain": [
       "C    355\n",
       "A    323\n",
       "B    322\n",
       "Name: count, dtype: int64"
      ]
     },
     "execution_count": 37,
     "metadata": {},
     "output_type": "execute_result"
    }
   ],
   "source": [
    "pd.Series(x).value_counts()"
   ]
  },
  {
   "cell_type": "code",
   "execution_count": 41,
   "id": "6050b7ef-cda0-40e5-aa53-1a3c2a3daebf",
   "metadata": {},
   "outputs": [
    {
     "data": {
      "text/plain": [
       "'C'"
      ]
     },
     "execution_count": 41,
     "metadata": {},
     "output_type": "execute_result"
    }
   ],
   "source": [
    "pd.Series(x).value_counts().index[0]"
   ]
  },
  {
   "cell_type": "code",
   "execution_count": 46,
   "id": "7c208803-89b3-40ed-ab2a-11595235fc64",
   "metadata": {},
   "outputs": [],
   "source": [
    "# PYTHON collections 사용\n",
    "from collections import Counter"
   ]
  },
  {
   "cell_type": "code",
   "execution_count": 49,
   "id": "ca2c7184-eb43-4297-97ca-0c65d816d881",
   "metadata": {},
   "outputs": [
    {
     "name": "stdout",
     "output_type": "stream",
     "text": [
      "{np.str_('B'): 322, np.str_('C'): 355, np.str_('A'): 323}\n"
     ]
    }
   ],
   "source": [
    "Counter(x)\n",
    "print(dict(Counter(x)))"
   ]
  },
  {
   "cell_type": "code",
   "execution_count": 58,
   "id": "87feeb70-c3f5-42e8-a6e1-9a62db6e6433",
   "metadata": {},
   "outputs": [
    {
     "name": "stdout",
     "output_type": "stream",
     "text": [
      "[(np.str_('C'), 355)]\n",
      "(np.str_('C'), 355)\n",
      "최빈값 : C, 최빈수 : 355\n"
     ]
    }
   ],
   "source": [
    "counter =  Counter(x)\n",
    "print(counter.most_common(1))\n",
    "\n",
    "print(counter.most_common(1)[0])\n",
    "mode_value, mode_count = counter.most_common(1)[0]\n",
    "print(f\"최빈값 : {mode_value}, 최빈수 : {mode_count}\")"
   ]
  },
  {
   "cell_type": "code",
   "execution_count": 57,
   "id": "ab4fe763-b861-47bb-8d0d-2fce7a345564",
   "metadata": {},
   "outputs": [
    {
     "data": {
      "text/plain": [
       "[(np.str_('C'), 355), (np.str_('A'), 323), (np.str_('B'), 322)]"
      ]
     },
     "execution_count": 57,
     "metadata": {},
     "output_type": "execute_result"
    }
   ],
   "source": [
    "counter.most_common(3)"
   ]
  },
  {
   "cell_type": "code",
   "execution_count": null,
   "id": "55d17d03-d971-48cc-a464-df33490ae59b",
   "metadata": {},
   "outputs": [],
   "source": []
  },
  {
   "cell_type": "markdown",
   "id": "61e08361-9901-4e88-9d1a-011685fa69d7",
   "metadata": {},
   "source": [
    "## 데이터의 대푯값"
   ]
  },
  {
   "cell_type": "code",
   "execution_count": 59,
   "id": "effc429a-862a-4858-a7ee-1dc1006f36b9",
   "metadata": {},
   "outputs": [],
   "source": [
    "#평균, 중앙값, 최빈값\n"
   ]
  },
  {
   "cell_type": "code",
   "execution_count": 125,
   "id": "73c5e4bd-90a9-4b89-bdb3-8a9ca44e4237",
   "metadata": {},
   "outputs": [],
   "source": [
    "#데이터 생성\n",
    "np.random.seed(2025)  # random자료의 값이 바뀌지 않음. 타인도 동일한 결과를 도출할 수 있도록.\n",
    "data = np.random.randint(0,5,10) "
   ]
  },
  {
   "cell_type": "code",
   "execution_count": 126,
   "id": "aaaf3aee-d27c-46be-8d36-3921959bf443",
   "metadata": {},
   "outputs": [
    {
     "data": {
      "text/plain": [
       "array([2, 4, 0, 3, 3, 4, 0, 0, 2, 1], dtype=int32)"
      ]
     },
     "execution_count": 126,
     "metadata": {},
     "output_type": "execute_result"
    }
   ],
   "source": [
    "data"
   ]
  },
  {
   "cell_type": "code",
   "execution_count": 130,
   "id": "3d2cfee2-3bf6-4331-b0c4-75ec651d6da1",
   "metadata": {},
   "outputs": [
    {
     "data": {
      "text/plain": [
       "array([0, 0, 0, 1, 2, 2, 3, 3, 4, 4], dtype=int32)"
      ]
     },
     "execution_count": 130,
     "metadata": {},
     "output_type": "execute_result"
    }
   ],
   "source": [
    "data.sort()\n",
    "data"
   ]
  },
  {
   "cell_type": "code",
   "execution_count": 131,
   "id": "ae9e5625-089d-4e57-a6a0-2d53a8dadf4a",
   "metadata": {},
   "outputs": [
    {
     "data": {
      "text/plain": [
       "np.float64(2.0)"
      ]
     },
     "execution_count": 131,
     "metadata": {},
     "output_type": "execute_result"
    }
   ],
   "source": [
    "mean_val = np.mean(data)\n",
    "median_val = np.median(data)\n",
    "median_val"
   ]
  },
  {
   "cell_type": "code",
   "execution_count": 133,
   "id": "d84d127c-d16f-465f-84d7-e6ed79558153",
   "metadata": {},
   "outputs": [
    {
     "data": {
      "text/plain": [
       "ModeResult(mode=np.int32(0), count=np.int64(3))"
      ]
     },
     "execution_count": 133,
     "metadata": {},
     "output_type": "execute_result"
    }
   ],
   "source": [
    "mode_val = stats.mode(data)\n",
    "mode_val"
   ]
  },
  {
   "cell_type": "code",
   "execution_count": 135,
   "id": "acd8e343-f1d4-4cc0-b04b-74007b1cbbfb",
   "metadata": {},
   "outputs": [
    {
     "data": {
      "text/plain": [
       "'최빈값 : 0 , 최빈갯수 : 3'"
      ]
     },
     "execution_count": 135,
     "metadata": {},
     "output_type": "execute_result"
    }
   ],
   "source": [
    "f\"최빈값 : {mode_val.mode} , 최빈갯수 : {mode_val.count}\""
   ]
  }
 ],
 "metadata": {
  "kernelspec": {
   "display_name": "eda_env",
   "language": "python",
   "name": "eda_env"
  },
  "language_info": {
   "codemirror_mode": {
    "name": "ipython",
    "version": 3
   },
   "file_extension": ".py",
   "mimetype": "text/x-python",
   "name": "python",
   "nbconvert_exporter": "python",
   "pygments_lexer": "ipython3",
   "version": "3.10.18"
  }
 },
 "nbformat": 4,
 "nbformat_minor": 5
}
