{
 "cells": [
  {
   "cell_type": "code",
   "execution_count": 1,
   "id": "2384b34b-b386-4e90-be7e-bb8374eeb2d9",
   "metadata": {},
   "outputs": [],
   "source": [
    "import pandas as pd"
   ]
  },
  {
   "cell_type": "markdown",
   "id": "a4572428-d59b-4a84-82ee-02104d04cfbe",
   "metadata": {},
   "source": [
    "# 1 데이터 로딩"
   ]
  },
  {
   "cell_type": "code",
   "execution_count": 3,
   "id": "7cae9504-6073-432c-b0af-3ba2977a5338",
   "metadata": {},
   "outputs": [
    {
     "data": {
      "text/html": [
       "<div>\n",
       "<style scoped>\n",
       "    .dataframe tbody tr th:only-of-type {\n",
       "        vertical-align: middle;\n",
       "    }\n",
       "\n",
       "    .dataframe tbody tr th {\n",
       "        vertical-align: top;\n",
       "    }\n",
       "\n",
       "    .dataframe thead th {\n",
       "        text-align: right;\n",
       "    }\n",
       "</style>\n",
       "<table border=\"1\" class=\"dataframe\">\n",
       "  <thead>\n",
       "    <tr style=\"text-align: right;\">\n",
       "      <th></th>\n",
       "      <th>CDN_A</th>\n",
       "      <th>CDN_B</th>\n",
       "      <th>CDN_C</th>\n",
       "    </tr>\n",
       "  </thead>\n",
       "  <tbody>\n",
       "    <tr>\n",
       "      <th>0</th>\n",
       "      <td>103.115543</td>\n",
       "      <td>102.342433</td>\n",
       "      <td>98.371838</td>\n",
       "    </tr>\n",
       "    <tr>\n",
       "      <th>1</th>\n",
       "      <td>94.341060</td>\n",
       "      <td>118.835131</td>\n",
       "      <td>86.193353</td>\n",
       "    </tr>\n",
       "    <tr>\n",
       "      <th>2</th>\n",
       "      <td>114.586739</td>\n",
       "      <td>104.359728</td>\n",
       "      <td>79.047870</td>\n",
       "    </tr>\n",
       "    <tr>\n",
       "      <th>3</th>\n",
       "      <td>156.155017</td>\n",
       "      <td>90.357875</td>\n",
       "      <td>63.730201</td>\n",
       "    </tr>\n",
       "    <tr>\n",
       "      <th>4</th>\n",
       "      <td>156.920524</td>\n",
       "      <td>75.013771</td>\n",
       "      <td>116.655484</td>\n",
       "    </tr>\n",
       "  </tbody>\n",
       "</table>\n",
       "</div>"
      ],
      "text/plain": [
       "        CDN_A       CDN_B       CDN_C\n",
       "0  103.115543  102.342433   98.371838\n",
       "1   94.341060  118.835131   86.193353\n",
       "2  114.586739  104.359728   79.047870\n",
       "3  156.155017   90.357875   63.730201\n",
       "4  156.920524   75.013771  116.655484"
      ]
     },
     "execution_count": 3,
     "metadata": {},
     "output_type": "execute_result"
    }
   ],
   "source": [
    "df = pd.read_csv(\"cdn_page_load_times.csv\")\n",
    "df.head()"
   ]
  },
  {
   "cell_type": "markdown",
   "id": "c7f56028-a087-4fb0-9362-5297e5769892",
   "metadata": {},
   "source": [
    "# 2 가설설정 방법 선택."
   ]
  },
  {
   "cell_type": "markdown",
   "id": "df67ff3e-b9eb-42b2-b373-7aca36394760",
   "metadata": {},
   "source": [
    "독립된 3곳의(A, B, C)사의 페이지 로드시간에 관한 데이터  속도를 측정하므로, 일원분산분석(one-way anova)을 실시하기로 함."
   ]
  },
  {
   "cell_type": "code",
   "execution_count": 7,
   "id": "dffc460d-ccb6-4fd9-9188-ecec4e74b317",
   "metadata": {},
   "outputs": [],
   "source": [
    "# 데잍터 분할\n",
    "\n",
    "A = df['CDN_A'].dropna().values\n",
    "B = df['CDN_B'].dropna().values\n",
    "C = df['CDN_C'].dropna().values"
   ]
  },
  {
   "cell_type": "code",
   "execution_count": 10,
   "id": "61e52531-3548-4811-b616-a9759547f705",
   "metadata": {},
   "outputs": [
    {
     "data": {
      "text/plain": [
       "(100, 100, 100)"
      ]
     },
     "execution_count": 10,
     "metadata": {},
     "output_type": "execute_result"
    }
   ],
   "source": [
    "len(A), len(B), len(C)"
   ]
  },
  {
   "cell_type": "code",
   "execution_count": 13,
   "id": "d9bec305-9b93-4c3e-9e5a-cf836f8146b3",
   "metadata": {},
   "outputs": [
    {
     "data": {
      "image/png": "[encoded data removed]",
      "text/plain": [
       "<Figure size 640x480 with 1 Axes>"
      ]
     },
     "metadata": {},
     "output_type": "display_data"
    }
   ],
   "source": [
    "# 데이터 시각화\n",
    "\n",
    "from matplotlib import pyplot as plt\n",
    "\n",
    "plt.boxplot([A, B, C])\n",
    "plt.xticks([1, 2, 3], ['A', 'B', 'C'])\n",
    "plt.show()"
   ]
  },
  {
   "cell_type": "markdown",
   "id": "462a3432-ffd4-4397-9933-7c62d8c9ee68",
   "metadata": {},
   "source": [
    "# 3데이터 전제조건 확인 및 결과해석"
   ]
  },
  {
   "cell_type": "code",
   "execution_count": 5,
   "id": "354312bb-0ee3-428f-94c5-e7d54ab72ff0",
   "metadata": {},
   "outputs": [],
   "source": [
    "\n",
    "# 1. 정규성 검정 - > shapiro-Wilk 검정"
   ]
  },
  {
   "cell_type": "code",
   "execution_count": 14,
   "id": "f49905b0-1721-4aa9-ba62-e719e6712959",
   "metadata": {},
   "outputs": [
    {
     "name": "stdout",
     "output_type": "stream",
     "text": [
      "ShapiroResult(statistic=np.float64(0.9940977465531138), pvalue=np.float64(0.9446069376138456))\n",
      "ShapiroResult(statistic=np.float64(0.9821121731681786), pvalue=np.float64(0.19351085781526473))\n",
      "ShapiroResult(statistic=np.float64(0.9898981527862001), pvalue=np.float64(0.6563609451801026))\n"
     ]
    }
   ],
   "source": [
    "from scipy import stats as st\n",
    "print(st.shapiro(A-B))\n",
    "print(st.shapiro(B-C))\n",
    "print(st.shapiro(C-A))"
   ]
  },
  {
   "cell_type": "markdown",
   "id": "18a03e11-0fbf-4f56-9803-3f86a2bfb5d3",
   "metadata": {},
   "source": [
    "A-B, B-C, C-A 각 p-value값이 > 0.05 이므로 각 차이값이 정규성이 해석할 수 있다."
   ]
  },
  {
   "cell_type": "code",
   "execution_count": 15,
   "id": "e486387d-2d83-42e1-a3c0-f2bd79925b75",
   "metadata": {},
   "outputs": [],
   "source": [
    "#2. 등분산성 검정 -> 레빈 검정 (Levene's Test)"
   ]
  },
  {
   "cell_type": "code",
   "execution_count": 16,
   "id": "e3ecdf77-ef03-4b15-8077-525f5b11d44d",
   "metadata": {},
   "outputs": [
    {
     "name": "stdout",
     "output_type": "stream",
     "text": [
      "levene_stat: 0.6331383822746123, levene_p_value: 0.5316379878247817\n"
     ]
    }
   ],
   "source": [
    "levene_stat, levene_p_value = st.levene(A, B, C, center='median')\n",
    "print(f\"levene_stat: {levene_stat}, levene_p_value: {levene_p_value}\")"
   ]
  },
  {
   "cell_type": "markdown",
   "id": "1d2325af-53ca-4694-be14-32a94829fd39",
   "metadata": {},
   "source": [
    "levene 테스트 결과, p-value값이 > 0.05 이므로 분산이 동일하다고 해석할 수 있다."
   ]
  },
  {
   "cell_type": "markdown",
   "id": "69b1c2b1-5be4-4f75-9203-4ec82cdd975d",
   "metadata": {},
   "source": [
    "# 4 가설검정 수행 및 결과 해석"
   ]
  },
  {
   "cell_type": "code",
   "execution_count": 20,
   "id": "26755856-c7bc-4703-b039-fa4b72fb7a27",
   "metadata": {},
   "outputs": [],
   "source": [
    "#anova분석 수행.\n",
    "# H0 : mean(A) = mean(B) = mean(C) , H1 : 최소 한개 그룹에서는 차이가 있다."
   ]
  },
  {
   "cell_type": "code",
   "execution_count": 21,
   "id": "e1109f2c-d687-4da9-95ca-1e357aa400ae",
   "metadata": {},
   "outputs": [
    {
     "data": {
      "text/plain": [
       "F_onewayResult(statistic=np.float64(39.192607237897704), pvalue=np.float64(7.842852500131719e-16))"
      ]
     },
     "execution_count": 21,
     "metadata": {},
     "output_type": "execute_result"
    }
   ],
   "source": [
    "st.f_oneway(A,B,C)"
   ]
  },
  {
   "cell_type": "code",
   "execution_count": 22,
   "id": "393364ec-f5f0-40d3-98fa-8654c4fdbee2",
   "metadata": {},
   "outputs": [],
   "source": [
    "# 해석\n",
    "# p-value 값이 < 0.05 이므로 귀무가설을 기각, 즉 대립가설인 최소 하나의 그룹에서 데이터 로드 시간에 차이가 있다고 판단이 된다."
   ]
  },
  {
   "cell_type": "markdown",
   "id": "c19c6290-9ebe-441e-9b41-6f84c2117bcc",
   "metadata": {},
   "source": [
    "# 사후분석 및 결과해석"
   ]
  },
  {
   "cell_type": "code",
   "execution_count": 23,
   "id": "b4dce7bf-fbf1-4fde-ac0c-bb76731c1004",
   "metadata": {},
   "outputs": [
    {
     "name": "stdout",
     "output_type": "stream",
     "text": [
      "Requirement already satisfied: statsmodels in c:\\users\\admin\\miniconda3\\envs\\eda_env\\lib\\site-packages (0.14.5)\n",
      "Requirement already satisfied: numpy<3,>=1.22.3 in c:\\users\\admin\\miniconda3\\envs\\eda_env\\lib\\site-packages (from statsmodels) (2.2.6)\n",
      "Requirement already satisfied: scipy!=1.9.2,>=1.8 in c:\\users\\admin\\miniconda3\\envs\\eda_env\\lib\\site-packages (from statsmodels) (1.15.3)\n",
      "Requirement already satisfied: pandas!=2.1.0,>=1.4 in c:\\users\\admin\\miniconda3\\envs\\eda_env\\lib\\site-packages (from statsmodels) (2.3.3)\n",
      "Requirement already satisfied: patsy>=0.5.6 in c:\\users\\admin\\miniconda3\\envs\\eda_env\\lib\\site-packages (from statsmodels) (1.0.1)\n",
      "Requirement already satisfied: packaging>=21.3 in c:\\users\\admin\\miniconda3\\envs\\eda_env\\lib\\site-packages (from statsmodels) (25.0)\n",
      "Requirement already satisfied: python-dateutil>=2.8.2 in c:\\users\\admin\\miniconda3\\envs\\eda_env\\lib\\site-packages (from pandas!=2.1.0,>=1.4->statsmodels) (2.9.0.post0)\n",
      "Requirement already satisfied: pytz>=2020.1 in c:\\users\\admin\\miniconda3\\envs\\eda_env\\lib\\site-packages (from pandas!=2.1.0,>=1.4->statsmodels) (2025.2)\n",
      "Requirement already satisfied: tzdata>=2022.7 in c:\\users\\admin\\miniconda3\\envs\\eda_env\\lib\\site-packages (from pandas!=2.1.0,>=1.4->statsmodels) (2025.2)\n",
      "Requirement already satisfied: six>=1.5 in c:\\users\\admin\\miniconda3\\envs\\eda_env\\lib\\site-packages (from python-dateutil>=2.8.2->pandas!=2.1.0,>=1.4->statsmodels) (1.17.0)\n"
     ]
    }
   ],
   "source": [
    "#! pip install statsmodels"
   ]
  },
  {
   "cell_type": "code",
   "execution_count": 27,
   "id": "1a100ddf-ba00-4636-8a96-1832e5b7ff55",
   "metadata": {},
   "outputs": [
    {
     "name": "stdout",
     "output_type": "stream",
     "text": [
      " Multiple Comparison of Means - Tukey HSD, FWER=0.05 \n",
      "=====================================================\n",
      "group1 group2 meandiff p-adj   lower    upper  reject\n",
      "-----------------------------------------------------\n",
      "     A      B -24.8154    0.0 -31.4178 -18.213   True\n",
      "     A      C -12.5563    0.0 -19.1587 -5.9538   True\n",
      "     B      C  12.2591 0.0001   5.6567 18.8616   True\n",
      "-----------------------------------------------------\n"
     ]
    }
   ],
   "source": [
    "# tukeyhsd테스트 시행\n",
    "\n",
    "from statsmodels.stats import multicomp\n",
    "Data = A.tolist() + B.tolist() + C.tolist()\n",
    "# 각 값이 속한 그룹 이름\n",
    "Group = ['A'] * len(A) + ['B'] * len(B) + ['C'] * len(C)\n",
    "\n",
    "print(multicomp.pairwise_tukeyhsd(Data, Group))"
   ]
  },
  {
   "cell_type": "markdown",
   "id": "10a8dd35-bada-435f-935c-f96d6849feec",
   "metadata": {},
   "source": [
    "각각의 그룹에서 모두 reject가 나왔으므로 3 집단의 차이가 모두 존재하고,\n",
    "A, B 의 평균이 A가 24.81만큼 낮고,\n",
    "A, C의 평균은 A 가 12.55만큼 낮고,\n",
    "B, C의 평균은 B 가 12.25만큼 크므로, 데이터 로딩속도의 평균은 B>C>A순으로 나타난다고 해석할 수 있음.\n",
    "\n",
    "즉, 로딩속도의 빠른 순은 A, C, B로 해석가능."
   ]
  },
  {
   "cell_type": "code",
   "execution_count": null,
   "id": "935e29ae-470c-4848-88df-fbacfab1bff8",
   "metadata": {},
   "outputs": [],
   "source": []
  }
 ],
 "metadata": {
  "kernelspec": {
   "display_name": "eda_env",
   "language": "python",
   "name": "eda_env"
  },
  "language_info": {
   "codemirror_mode": {
    "name": "ipython",
    "version": 3
   },
   "file_extension": ".py",
   "mimetype": "text/x-python",
   "name": "python",
   "nbconvert_exporter": "python",
   "pygments_lexer": "ipython3",
   "version": "3.10.18"
  }
 },
 "nbformat": 4,
 "nbformat_minor": 5
}
