{
 "cells": [
  {
   "cell_type": "markdown",
   "id": "b4cce923-ecec-4b5f-8a37-af31cb0d97dd",
   "metadata": {},
   "source": [
    "# 단일 표본 t검정"
   ]
  },
  {
   "cell_type": "code",
   "execution_count": 20,
   "id": "9ef37bb9-f8b6-4d21-9314-52403c5710b3",
   "metadata": {},
   "outputs": [],
   "source": [
    "## 데이터 laod 및 데이터 trim"
   ]
  },
  {
   "cell_type": "markdown",
   "id": "210bb9ab-31bd-4a52-a6bb-e1c3e4f161a4",
   "metadata": {},
   "source": [
    "[문제]\n",
    "- 성인 여성 25명의 키 데이터\n",
    "- 평균, 표준편차 계산\n",
    "- ks-정규성 검정 실행\n",
    "- 임의의 어떤 값 163은 평균 값에 근사할까?"
   ]
  },
  {
   "cell_type": "code",
   "execution_count": 4,
   "id": "988d95de-f0c0-42fe-a6c5-70f2d3a7626c",
   "metadata": {},
   "outputs": [
    {
     "name": "stdout",
     "output_type": "stream",
     "text": [
      "[150.27, 142.94, 160.99, 157.48, 153.46, 137.5, 154.94, 159.51, 171.87, 143.69, 153.65, 160.25, 153.07, 154.42, 141.21, 154.17, 162.56, 164.44, 172.36, 141.51, 169.4, 167.97, 170.26, 157.8, 167.61]\n"
     ]
    }
   ],
   "source": [
    "#data loaading\n",
    "\n",
    "with open(\"./datas2/성인여성_키_데이터.txt\", \"r\") as f:\n",
    "    data = f.read().split(\"\\n\")\n",
    "    data = list(map(float, data))  #리스트 요소 str -> float로 변경\n",
    "    print(data)        # 맵 함수의 결과를 list로 형변환 및 출력"
   ]
  },
  {
   "cell_type": "code",
   "execution_count": 5,
   "id": "2297c36e-5169-47f1-97c1-035550ff9f1b",
   "metadata": {},
   "outputs": [
    {
     "data": {
      "text/plain": [
       "25"
      ]
     },
     "execution_count": 5,
     "metadata": {},
     "output_type": "execute_result"
    }
   ],
   "source": [
    "len(data)"
   ]
  },
  {
   "cell_type": "markdown",
   "id": "fa89337f-f2fa-4bf5-bef7-ddd6a0689919",
   "metadata": {},
   "source": [
    "## 가설설정\n",
    "- H0 : mean(data) = 163\n",
    "- H1 : mean(data) != 163"
   ]
  },
  {
   "cell_type": "code",
   "execution_count": 13,
   "id": "494186e5-425c-4e7c-9d40-237eacbf886e",
   "metadata": {},
   "outputs": [],
   "source": [
    "#데이터의 평균과 표준편차 구하기\n",
    "\n",
    "import numpy as np\n",
    "import pandas as pd\n",
    "mean_value = np.mean(data)\n",
    "std_dev = np.std(data, ddof=0)"
   ]
  },
  {
   "cell_type": "code",
   "execution_count": 14,
   "id": "e84e9310-6666-490c-b8bf-4cc604a404ea",
   "metadata": {},
   "outputs": [
    {
     "data": {
      "text/plain": [
       "(np.float64(156.9332), np.float64(9.974187774450611))"
      ]
     },
     "execution_count": 14,
     "metadata": {},
     "output_type": "execute_result"
    }
   ],
   "source": [
    "mean_value, std_dev"
   ]
  },
  {
   "cell_type": "markdown",
   "id": "5c8f9e3d-227a-4f56-87c1-2350f9351ee1",
   "metadata": {},
   "source": [
    "## 정규성 검정(KS-test)"
   ]
  },
  {
   "cell_type": "code",
   "execution_count": 15,
   "id": "f665e728-3c5c-462c-92b7-26d181fbf10e",
   "metadata": {},
   "outputs": [],
   "source": [
    "from scipy.stats import * #stats 모듈의 모든 내용을 loading\n",
    "\n",
    "# from scipy import stats"
   ]
  },
  {
   "cell_type": "code",
   "execution_count": 16,
   "id": "f5dd5b57-581c-4e56-b256-76e219346b7d",
   "metadata": {},
   "outputs": [
    {
     "data": {
      "text/plain": [
       "(np.float64(0.10925974986314058), np.float64(0.8950958424230889))"
      ]
     },
     "execution_count": 16,
     "metadata": {},
     "output_type": "execute_result"
    }
   ],
   "source": [
    "# 정규성 검정함수\n",
    "\n",
    "# ks test의 p-value > 0.05(특정값) 이면 정규성을 따른다고 판단\n",
    "ks_stats, p_value = kstest(data, 'norm', args=(mean_value, std_dev))\n",
    "ks_stats, p_value\n",
    "\n"
   ]
  },
  {
   "cell_type": "code",
   "execution_count": null,
   "id": "61a8b74c-0314-45a1-a80d-337844448373",
   "metadata": {},
   "outputs": [],
   "source": []
  },
  {
   "cell_type": "markdown",
   "id": "d7e6287f-326e-4847-8c4d-e54a7254e722",
   "metadata": {},
   "source": [
    "## 단일 표본 t 검정"
   ]
  },
  {
   "cell_type": "code",
   "execution_count": 20,
   "id": "518f6114-1bee-4d18-9806-575f810306cb",
   "metadata": {},
   "outputs": [
    {
     "data": {
      "text/plain": [
       "TtestResult(statistic=np.float64(-2.979804412662668), pvalue=np.float64(0.006510445335847954), df=np.int64(24))"
      ]
     },
     "execution_count": 20,
     "metadata": {},
     "output_type": "execute_result"
    }
   ],
   "source": [
    "ttest_1samp(data, 163)"
   ]
  },
  {
   "cell_type": "code",
   "execution_count": 21,
   "id": "1ab66ec7-ac6a-4652-9237-3fdca296fc81",
   "metadata": {},
   "outputs": [],
   "source": [
    "# p-value값이 0.0065 이므로 <0.05, 즉 귀무가설 기각.\n",
    "# mean 163과는 다르다."
   ]
  },
  {
   "cell_type": "markdown",
   "id": "5cebae3a-c0fd-4a6a-b994-a5dbfd8bb8cd",
   "metadata": {},
   "source": [
    "# 독립 표본 t검정\n",
    "- 두 그룹 A, B의 차이를 검증할 떄 사용하는 검증 방법"
   ]
  },
  {
   "cell_type": "code",
   "execution_count": null,
   "id": "fe044985-3667-4a1b-931e-f89d61adba55",
   "metadata": {},
   "outputs": [],
   "source": [
    "# 문제 : A, B 반의 점수 차이가 있는지 검증하기\n",
    "# [가설 설정]\n",
    "# H0 : mean(A) = mean(B) , H1 : mean(A) != mean(B)"
   ]
  },
  {
   "cell_type": "code",
   "execution_count": 23,
   "id": "a33e6aa6-4f79-463f-a0ed-b7b62259bb3a",
   "metadata": {},
   "outputs": [],
   "source": [
    "import pandas as pd\n",
    "import numpy as np"
   ]
  },
  {
   "cell_type": "code",
   "execution_count": 29,
   "id": "09cba369-793b-4350-a557-6fe43e5ba687",
   "metadata": {},
   "outputs": [
    {
     "data": {
      "text/html": [
       "<div>\n",
       "<style scoped>\n",
       "    .dataframe tbody tr th:only-of-type {\n",
       "        vertical-align: middle;\n",
       "    }\n",
       "\n",
       "    .dataframe tbody tr th {\n",
       "        vertical-align: top;\n",
       "    }\n",
       "\n",
       "    .dataframe thead th {\n",
       "        text-align: right;\n",
       "    }\n",
       "</style>\n",
       "<table border=\"1\" class=\"dataframe\">\n",
       "  <thead>\n",
       "    <tr style=\"text-align: right;\">\n",
       "      <th></th>\n",
       "      <th>반</th>\n",
       "      <th>점수</th>\n",
       "    </tr>\n",
       "  </thead>\n",
       "  <tbody>\n",
       "    <tr>\n",
       "      <th>25</th>\n",
       "      <td>B</td>\n",
       "      <td>77</td>\n",
       "    </tr>\n",
       "    <tr>\n",
       "      <th>26</th>\n",
       "      <td>B</td>\n",
       "      <td>75</td>\n",
       "    </tr>\n",
       "    <tr>\n",
       "      <th>27</th>\n",
       "      <td>B</td>\n",
       "      <td>65</td>\n",
       "    </tr>\n",
       "    <tr>\n",
       "      <th>28</th>\n",
       "      <td>B</td>\n",
       "      <td>61</td>\n",
       "    </tr>\n",
       "    <tr>\n",
       "      <th>29</th>\n",
       "      <td>B</td>\n",
       "      <td>55</td>\n",
       "    </tr>\n",
       "  </tbody>\n",
       "</table>\n",
       "</div>"
      ],
      "text/plain": [
       "    반  점수\n",
       "25  B  77\n",
       "26  B  75\n",
       "27  B  65\n",
       "28  B  61\n",
       "29  B  55"
      ]
     },
     "execution_count": 29,
     "metadata": {},
     "output_type": "execute_result"
    }
   ],
   "source": [
    "df1 = pd.read_csv(\"./datas2/반별_점수_type1.csv\", encoding=\"euc-kr\")\n",
    "df1.head()\n",
    "df1.tail()"
   ]
  },
  {
   "cell_type": "code",
   "execution_count": 33,
   "id": "164655af-95b6-4edb-b108-650b536c055e",
   "metadata": {},
   "outputs": [
    {
     "data": {
      "text/plain": [
       "반\n",
       "A    20\n",
       "B    10\n",
       "Name: count, dtype: int64"
      ]
     },
     "execution_count": 33,
     "metadata": {},
     "output_type": "execute_result"
    }
   ],
   "source": [
    "# 데이터프레임에서 반 column의 유니크한 값의 갯수 확인.\n",
    "df1['반'].value_counts()"
   ]
  },
  {
   "cell_type": "markdown",
   "id": "9f579b39-27c6-4dd7-90bd-741a43e44781",
   "metadata": {},
   "source": [
    "## A반과 B반 데이터 분리"
   ]
  },
  {
   "cell_type": "code",
   "execution_count": 34,
   "id": "6b2cd804-93d8-467d-9a30-84e15929459e",
   "metadata": {},
   "outputs": [
    {
     "data": {
      "text/plain": [
       "array([73, 69, 71, 71, 73, 67, 73, 69, 62, 74, 68, 66, 70, 82, 70, 65, 76,\n",
       "       73, 58, 81])"
      ]
     },
     "execution_count": 34,
     "metadata": {},
     "output_type": "execute_result"
    }
   ],
   "source": [
    "groupA = df1['점수'].loc[df1['반']=='A'].values\n",
    "groupA"
   ]
  },
  {
   "cell_type": "code",
   "execution_count": 35,
   "id": "bb608397-b7d0-4320-8883-8cf0c8c0503f",
   "metadata": {},
   "outputs": [
    {
     "data": {
      "text/plain": [
       "20"
      ]
     },
     "execution_count": 35,
     "metadata": {},
     "output_type": "execute_result"
    }
   ],
   "source": [
    "len(groupA)"
   ]
  },
  {
   "cell_type": "code",
   "execution_count": 36,
   "id": "4a7e19e4-a62b-4b25-9b3f-c71317e0136c",
   "metadata": {},
   "outputs": [
    {
     "data": {
      "text/plain": [
       "array([63, 56, 73, 61, 55, 77, 75, 65, 61, 55])"
      ]
     },
     "execution_count": 36,
     "metadata": {},
     "output_type": "execute_result"
    }
   ],
   "source": [
    "groupB = df1['점수'].loc[df1['반']=='B'].values\n",
    "groupB"
   ]
  },
  {
   "cell_type": "code",
   "execution_count": 37,
   "id": "114d8edf-8ec8-4464-ae9f-1575c4e9500f",
   "metadata": {},
   "outputs": [
    {
     "data": {
      "text/plain": [
       "10"
      ]
     },
     "execution_count": 37,
     "metadata": {},
     "output_type": "execute_result"
    }
   ],
   "source": [
    "len(groupB)"
   ]
  },
  {
   "cell_type": "code",
   "execution_count": 44,
   "id": "15d51f6a-04f7-44ae-bc21-fba3df66c748",
   "metadata": {},
   "outputs": [
    {
     "data": {
      "text/plain": [
       "(np.float64(70.55), np.float64(5.67983506061483))"
      ]
     },
     "execution_count": 44,
     "metadata": {},
     "output_type": "execute_result"
    }
   ],
   "source": [
    "meanA = np.mean(groupA)\n",
    "stdA = np.std(groupA, ddof = 1)\n",
    "meanA, stdA\n"
   ]
  },
  {
   "cell_type": "code",
   "execution_count": 47,
   "id": "ba9a9af3-222d-4217-a90e-0b0d0ea566e0",
   "metadata": {},
   "outputs": [
    {
     "name": "stdout",
     "output_type": "stream",
     "text": [
      "A반 평균: 70.55, 표준 편차: 5.68\n",
      "B반 평균: 64.10, 표준 편차: 8.28\n"
     ]
    }
   ],
   "source": [
    "meanB = np.mean(groupB)\n",
    "stdB = np.std(groupB, ddof = 1)\n",
    "meanB, stdB\n",
    "\n",
    "# 결과출력\n",
    "print(f\"A반 평균: {meanA:.2f}, 표준 편차: {stdA:.2f}\")\n",
    "print(f\"B반 평균: {meanB:.2f}, 표준 편차: {stdB:.2f}\")"
   ]
  },
  {
   "cell_type": "markdown",
   "id": "c6ea4d02-c5cf-44db-8752-82ede85afb1d",
   "metadata": {},
   "source": [
    "### 독립 표본 t검정의 선행조건.\n",
    "- 독립성\n",
    "- 정규성\n",
    "- 등분산성"
   ]
  },
  {
   "cell_type": "code",
   "execution_count": 60,
   "id": "ec9c0a73-0099-482d-96f1-f75af92a2827",
   "metadata": {},
   "outputs": [
    {
     "name": "stdout",
     "output_type": "stream",
     "text": [
      "KstestResult(statistic=np.float64(0.13310674849448567), pvalue=np.float64(0.8254564220619713), statistic_location=np.int64(73), statistic_sign=np.int8(1))\n",
      "KstestResult(statistic=np.float64(0.15881009358601705), pvalue=np.float64(0.9295432555006241), statistic_location=np.int64(73), statistic_sign=np.int8(-1))\n"
     ]
    }
   ],
   "source": [
    "# 1.각 표본이 정규성을 따르는가 -> ks test\n",
    "\n",
    "print(kstest(groupA, 'norm', args=(meanA, np.std(groupA, ddof = 1))))\n",
    "print(kstest(groupB, 'norm', args=(meanB, np.std(groupB, ddof = 1))))\n",
    "\n",
    "# 두 집단의 p-value > 0.05이므로 정규성을 만족한다고 할 수 있다."
   ]
  },
  {
   "cell_type": "code",
   "execution_count": 55,
   "id": "011f8814-afa2-4817-8468-eaa179f1146c",
   "metadata": {},
   "outputs": [
    {
     "data": {
      "text/plain": [
       "LeveneResult(statistic=np.float64(2.033067087400979), pvalue=np.float64(0.16496408622210104))"
      ]
     },
     "execution_count": 55,
     "metadata": {},
     "output_type": "execute_result"
    }
   ],
   "source": [
    "# 2.등분산성. 양 집단이 동일 분산인가. scipy.stats.levene(s1,s2,s3,…)\n",
    "\n",
    "levene(groupA, groupB)\n",
    "\n",
    "# p-value가 >0.05 dlamfh, 등분산성이 만족한다고 할 수 있다."
   ]
  },
  {
   "cell_type": "code",
   "execution_count": 58,
   "id": "96941b2a-d6c0-4310-90ed-896f2b38c16f",
   "metadata": {},
   "outputs": [
    {
     "data": {
      "text/plain": [
       "(np.float64(32.26052631578948), np.float64(68.54444444444445))"
      ]
     },
     "execution_count": 58,
     "metadata": {},
     "output_type": "execute_result"
    }
   ],
   "source": [
    "varA = np.var(groupA, ddof = 1)\n",
    "varB = np.var(groupB, ddof = 1)\n",
    "varA, varB"
   ]
  },
  {
   "cell_type": "code",
   "execution_count": 59,
   "id": "13051493-d117-4375-ab04-442dc4186bd4",
   "metadata": {},
   "outputs": [
    {
     "name": "stdout",
     "output_type": "stream",
     "text": [
      "TtestResult(statistic=np.float64(2.5128526794964134), pvalue=np.float64(0.01801095352893767), df=np.float64(28.0))\n"
     ]
    }
   ],
   "source": [
    "# 독립표본 t검정\n",
    "# 양 집단이 독립성, 정규성, 등분산성의 조건이 만족하므로, 독립표본 t검정 시행을 할 수 있음.\n",
    "\n",
    "print(ttest_ind(groupA, groupB, equal_var=True))\n",
    "\n",
    "# p-value값이 < 0.05 이므로, 양 집단의 평균이 동일하다는 귀무가설을 기각.\n",
    "# test값이 양수이므로, A집단이 더 높은 평균점수라고 해석이 가능."
   ]
  },
  {
   "cell_type": "code",
   "execution_count": null,
   "id": "11e43225-b191-4b99-804d-cb4ddcdc9c0c",
   "metadata": {},
   "outputs": [],
   "source": []
  }
 ],
 "metadata": {
  "kernelspec": {
   "display_name": "eda_env",
   "language": "python",
   "name": "eda_env"
  },
  "language_info": {
   "codemirror_mode": {
    "name": "ipython",
    "version": 3
   },
   "file_extension": ".py",
   "mimetype": "text/x-python",
   "name": "python",
   "nbconvert_exporter": "python",
   "pygments_lexer": "ipython3",
   "version": "3.10.18"
  }
 },
 "nbformat": 4,
 "nbformat_minor": 5
}
