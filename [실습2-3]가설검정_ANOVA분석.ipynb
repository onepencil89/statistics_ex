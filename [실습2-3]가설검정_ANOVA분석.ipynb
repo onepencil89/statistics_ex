{
 "cells": [
  {
   "cell_type": "code",
   "execution_count": 1,
   "id": "7e66f060-bb36-45be-a03e-b2163fc7959d",
   "metadata": {},
   "outputs": [],
   "source": [
    "import pandas as pd"
   ]
  },
  {
   "cell_type": "markdown",
   "id": "d7924f6e-52d8-440b-8b5d-d1f9d2cddddc",
   "metadata": {},
   "source": [
    "# 일원분산(ANOVA) 분석|"
   ]
  },
  {
   "cell_type": "markdown",
   "id": "a2a8354c-ffba-4af6-bf2b-22f9d8ca8c0f",
   "metadata": {},
   "source": [
    "## 데이터 읽기 및 분할"
   ]
  },
  {
   "cell_type": "code",
   "execution_count": 2,
   "id": "43a96c33-51e2-4516-8d44-ecd3b9cd1cc3",
   "metadata": {},
   "outputs": [
    {
     "data": {
      "text/html": [
       "<div>\n",
       "<style scoped>\n",
       "    .dataframe tbody tr th:only-of-type {\n",
       "        vertical-align: middle;\n",
       "    }\n",
       "\n",
       "    .dataframe tbody tr th {\n",
       "        vertical-align: top;\n",
       "    }\n",
       "\n",
       "    .dataframe thead th {\n",
       "        text-align: right;\n",
       "    }\n",
       "</style>\n",
       "<table border=\"1\" class=\"dataframe\">\n",
       "  <thead>\n",
       "    <tr style=\"text-align: right;\">\n",
       "      <th></th>\n",
       "      <th>일자</th>\n",
       "      <th>지점A</th>\n",
       "      <th>지점B</th>\n",
       "      <th>지점C</th>\n",
       "    </tr>\n",
       "  </thead>\n",
       "  <tbody>\n",
       "    <tr>\n",
       "      <th>0</th>\n",
       "      <td>1</td>\n",
       "      <td>124</td>\n",
       "      <td>118</td>\n",
       "      <td>216</td>\n",
       "    </tr>\n",
       "    <tr>\n",
       "      <th>1</th>\n",
       "      <td>2</td>\n",
       "      <td>147</td>\n",
       "      <td>141</td>\n",
       "      <td>214</td>\n",
       "    </tr>\n",
       "    <tr>\n",
       "      <th>2</th>\n",
       "      <td>3</td>\n",
       "      <td>129</td>\n",
       "      <td>130</td>\n",
       "      <td>212</td>\n",
       "    </tr>\n",
       "    <tr>\n",
       "      <th>3</th>\n",
       "      <td>4</td>\n",
       "      <td>123</td>\n",
       "      <td>127</td>\n",
       "      <td>179</td>\n",
       "    </tr>\n",
       "    <tr>\n",
       "      <th>4</th>\n",
       "      <td>5</td>\n",
       "      <td>147</td>\n",
       "      <td>107</td>\n",
       "      <td>222</td>\n",
       "    </tr>\n",
       "  </tbody>\n",
       "</table>\n",
       "</div>"
      ],
      "text/plain": [
       "   일자  지점A  지점B  지점C\n",
       "0   1  124  118  216\n",
       "1   2  147  141  214\n",
       "2   3  129  130  212\n",
       "3   4  123  127  179\n",
       "4   5  147  107  222"
      ]
     },
     "execution_count": 2,
     "metadata": {},
     "output_type": "execute_result"
    }
   ],
   "source": [
    "df = pd.read_csv(\"datas2/지점별_일별판매량.csv\", encoding = 'euc-kr')\n",
    "df.head()"
   ]
  },
  {
   "cell_type": "code",
   "execution_count": 3,
   "id": "9b5d8b12-6987-425c-bae4-da83574cdaa0",
   "metadata": {},
   "outputs": [],
   "source": [
    "# 데잍터 분할(? dropna?)\n",
    "# A = df['지점A'].values\n",
    "A = df['지점A'].dropna().values\n",
    "B = df['지점B'].dropna().values\n",
    "C = df['지점C'].dropna().values"
   ]
  },
  {
   "cell_type": "code",
   "execution_count": 4,
   "id": "dd2cf4d3-0624-43b2-b79c-9386fefcb601",
   "metadata": {},
   "outputs": [
    {
     "name": "stdout",
     "output_type": "stream",
     "text": [
      "<class 'pandas.core.frame.DataFrame'>\n",
      "RangeIndex: 30 entries, 0 to 29\n",
      "Data columns (total 4 columns):\n",
      " #   Column  Non-Null Count  Dtype\n",
      "---  ------  --------------  -----\n",
      " 0   일자      30 non-null     int64\n",
      " 1   지점A     30 non-null     int64\n",
      " 2   지점B     30 non-null     int64\n",
      " 3   지점C     30 non-null     int64\n",
      "dtypes: int64(4)\n",
      "memory usage: 1.1 KB\n"
     ]
    }
   ],
   "source": [
    "df.info()"
   ]
  },
  {
   "cell_type": "code",
   "execution_count": 5,
   "id": "b4afd867-b884-423e-a3ca-8e7343b5b27c",
   "metadata": {},
   "outputs": [
    {
     "data": {
      "text/plain": [
       "(30, 30, 30)"
      ]
     },
     "execution_count": 5,
     "metadata": {},
     "output_type": "execute_result"
    }
   ],
   "source": [
    "len(A), len(B), len(C)"
   ]
  },
  {
   "cell_type": "code",
   "execution_count": 6,
   "id": "c1a29cdd-41c8-4501-a769-2595084dab1f",
   "metadata": {},
   "outputs": [
    {
     "data": {
      "text/plain": [
       "array([124, 147, 129, 123, 147, 149, 140, 142, 124, 166, 127, 130, 139,\n",
       "       121, 149, 155, 140, 150, 137, 144, 136, 126, 150, 142, 149, 127,\n",
       "       140, 138, 128, 117])"
      ]
     },
     "execution_count": 6,
     "metadata": {},
     "output_type": "execute_result"
    }
   ],
   "source": [
    "A"
   ]
  },
  {
   "cell_type": "markdown",
   "id": "1ca4e5b6-d458-46e0-a4cf-9d6a6ca07a67",
   "metadata": {},
   "source": [
    "## 데이터 시각화"
   ]
  },
  {
   "cell_type": "code",
   "execution_count": 7,
   "id": "bdd5d1eb-6cac-476a-bbd9-3817ceec0ede",
   "metadata": {},
   "outputs": [],
   "source": [
    "from matplotlib import pyplot as plt"
   ]
  },
  {
   "cell_type": "code",
   "execution_count": 8,
   "id": "3abb82b2-7f75-462d-ab5e-cdad2c3810e4",
   "metadata": {},
   "outputs": [
    {
     "data": {
      "image/png": "[encoded data removed]",
      "text/plain": [
       "<Figure size 1000x1000 with 1 Axes>"
      ]
     },
     "metadata": {},
     "output_type": "display_data"
    }
   ],
   "source": [
    "plt.rcParams[\"font.family\"] = 'Malgun Gothic'\n",
    "plt.rcParams[\"font.size\"] = 20\n",
    "plt.rcParams[\"figure.figsize\"] = (10, 10)\n",
    "plt.boxplot([A, B, C])\n",
    "plt.xticks([1, 2, 3], ['지점 A', '지점 B', '지점 C'])\n",
    "plt.show()"
   ]
  },
  {
   "cell_type": "markdown",
   "id": "e8d5559a-3d29-4621-b029-ec150e920cb9",
   "metadata": {},
   "source": [
    "## 정규성 검정  \n",
    "shapiro-Wilk 검정"
   ]
  },
  {
   "cell_type": "code",
   "execution_count": 9,
   "id": "e9d53f11-88c5-4f80-bf84-89f4f0e19c34",
   "metadata": {},
   "outputs": [],
   "source": [
    "from scipy import stats as st"
   ]
  },
  {
   "cell_type": "code",
   "execution_count": 10,
   "id": "1de4c878-67cc-4705-9698-d2010633d236",
   "metadata": {},
   "outputs": [
    {
     "name": "stdout",
     "output_type": "stream",
     "text": [
      "ShapiroResult(statistic=np.float64(0.9806113784179772), pvalue=np.float64(0.8415709891789398))\n",
      "ShapiroResult(statistic=np.float64(0.9766118849758917), pvalue=np.float64(0.7301124246612438))\n",
      "ShapiroResult(statistic=np.float64(0.9756594683381399), pvalue=np.float64(0.7021590584338278))\n"
     ]
    }
   ],
   "source": [
    "print(st.shapiro(A-B))\n",
    "print(st.shapiro(B-C))\n",
    "print(st.shapiro(C-A))"
   ]
  },
  {
   "cell_type": "code",
   "execution_count": 11,
   "id": "b80906b9-635f-424a-9cf6-36dedf80ba21",
   "metadata": {},
   "outputs": [],
   "source": [
    "# 각 그룹 데이터 간의 shapiro test의 p-value >0.05 이므로 각 차이의 정규성이 있다고 볼 수 있다."
   ]
  },
  {
   "cell_type": "markdown",
   "id": "ef7ff91e-838f-4c49-aa95-09464496d1d2",
   "metadata": {},
   "source": [
    "## 등분산성 검정\n",
    "- 레빈 검정 (Levene's Test) - 권장\n",
    "- center='median'이 기본값이며, 평균(mean)보다 이상치에 덜 민감하여 더 안정적임"
   ]
  },
  {
   "cell_type": "code",
   "execution_count": 12,
   "id": "3dbc125d-b804-4022-8232-6da2724fe920",
   "metadata": {},
   "outputs": [
    {
     "name": "stdout",
     "output_type": "stream",
     "text": [
      "levene_stat: 1.244640322359082, levene_p_value: 0.29312188689352464\n"
     ]
    }
   ],
   "source": [
    "levene_stat, levene_p_value = st.levene(A, B, C, center='median')\n",
    "print(f\"levene_stat: {levene_stat}, levene_p_value: {levene_p_value}\")"
   ]
  },
  {
   "cell_type": "code",
   "execution_count": 13,
   "id": "30bc0992-f8f1-43c6-84a1-96f33f535664",
   "metadata": {},
   "outputs": [],
   "source": [
    "# 등분산성의 pvalue >0.05 -> 분산이 동일하다고 판단가능."
   ]
  },
  {
   "cell_type": "markdown",
   "id": "cfc86783-e3c7-43c8-be67-0dd7354ce13d",
   "metadata": {},
   "source": [
    "## 일원분산(ANOVA) 분석 수행"
   ]
  },
  {
   "cell_type": "code",
   "execution_count": 14,
   "id": "156da4af-2fe8-45b2-89d1-c50d7158ccce",
   "metadata": {},
   "outputs": [
    {
     "data": {
      "text/plain": [
       "F_onewayResult(statistic=np.float64(178.43825416847133), pvalue=np.float64(1.6337420285664832e-31))"
      ]
     },
     "execution_count": 14,
     "metadata": {},
     "output_type": "execute_result"
    }
   ],
   "source": [
    "st.f_oneway(A,B,C)"
   ]
  },
  {
   "cell_type": "code",
   "execution_count": 15,
   "id": "40d58b0f-dfcf-4edb-82bc-7571f8c1f54a",
   "metadata": {},
   "outputs": [],
   "source": [
    "# p-value < 0.05 이므로, 귀무가설 기각. 평균은 동일하지 않다고 판단."
   ]
  },
  {
   "cell_type": "code",
   "execution_count": 16,
   "id": "16741537-4941-4d08-afda-b54b801653f3",
   "metadata": {},
   "outputs": [
    {
     "name": "stdout",
     "output_type": "stream",
     "text": [
      "Requirement already satisfied: statsmodels in c:\\users\\admin\\miniconda3\\envs\\eda_env\\lib\\site-packages (0.14.5)\n",
      "Requirement already satisfied: numpy<3,>=1.22.3 in c:\\users\\admin\\miniconda3\\envs\\eda_env\\lib\\site-packages (from statsmodels) (2.2.6)\n",
      "Requirement already satisfied: scipy!=1.9.2,>=1.8 in c:\\users\\admin\\miniconda3\\envs\\eda_env\\lib\\site-packages (from statsmodels) (1.15.3)\n",
      "Requirement already satisfied: pandas!=2.1.0,>=1.4 in c:\\users\\admin\\miniconda3\\envs\\eda_env\\lib\\site-packages (from statsmodels) (2.3.3)\n",
      "Requirement already satisfied: patsy>=0.5.6 in c:\\users\\admin\\miniconda3\\envs\\eda_env\\lib\\site-packages (from statsmodels) (1.0.1)\n",
      "Requirement already satisfied: packaging>=21.3 in c:\\users\\admin\\miniconda3\\envs\\eda_env\\lib\\site-packages (from statsmodels) (25.0)\n",
      "Requirement already satisfied: python-dateutil>=2.8.2 in c:\\users\\admin\\miniconda3\\envs\\eda_env\\lib\\site-packages (from pandas!=2.1.0,>=1.4->statsmodels) (2.9.0.post0)\n",
      "Requirement already satisfied: pytz>=2020.1 in c:\\users\\admin\\miniconda3\\envs\\eda_env\\lib\\site-packages (from pandas!=2.1.0,>=1.4->statsmodels) (2025.2)\n",
      "Requirement already satisfied: tzdata>=2022.7 in c:\\users\\admin\\miniconda3\\envs\\eda_env\\lib\\site-packages (from pandas!=2.1.0,>=1.4->statsmodels) (2025.2)\n",
      "Requirement already satisfied: six>=1.5 in c:\\users\\admin\\miniconda3\\envs\\eda_env\\lib\\site-packages (from python-dateutil>=2.8.2->pandas!=2.1.0,>=1.4->statsmodels) (1.17.0)\n"
     ]
    }
   ],
   "source": [
    "! pip install statsmodels"
   ]
  },
  {
   "cell_type": "markdown",
   "id": "fbfe8487-86a0-45db-a143-78fe40369b99",
   "metadata": {},
   "source": [
    "## 사후분석"
   ]
  },
  {
   "cell_type": "code",
   "execution_count": 17,
   "id": "a67027d4-f998-4a43-aa02-7bf627e5a74f",
   "metadata": {},
   "outputs": [],
   "source": [
    "from statsmodels.stats import multicomp"
   ]
  },
  {
   "cell_type": "code",
   "execution_count": 18,
   "id": "ec6b7c5d-3844-4759-b410-0ae18d2dffec",
   "metadata": {},
   "outputs": [
    {
     "name": "stdout",
     "output_type": "stream",
     "text": [
      "[124, 147, 129, 123, 147, 149, 140, 142, 124, 166, 127, 130, 139, 121, 149, 155, 140, 150, 137, 144, 136, 126, 150, 142, 149, 127, 140, 138, 128, 117, 118, 141, 130, 127, 107, 140, 146, 122, 160, 157, 141, 142, 150, 136, 157, 107, 172, 126, 135, 115, 133, 132, 127, 128, 142, 161, 140, 125, 142, 135, 216, 214, 212, 179, 222, 238, 218, 200, 186, 188, 216, 183, 198, 199, 187, 183, 190, 161, 203, 192, 235, 208, 187, 201, 196, 202, 209, 179, 197, 204]\n",
      "['A', 'A', 'A', 'A', 'A', 'A', 'A', 'A', 'A', 'A', 'A', 'A', 'A', 'A', 'A', 'A', 'A', 'A', 'A', 'A', 'A', 'A', 'A', 'A', 'A', 'A', 'A', 'A', 'A', 'A', 'B', 'B', 'B', 'B', 'B', 'B', 'B', 'B', 'B', 'B', 'B', 'B', 'B', 'B', 'B', 'B', 'B', 'B', 'B', 'B', 'B', 'B', 'B', 'B', 'B', 'B', 'B', 'B', 'B', 'B', 'C', 'C', 'C', 'C', 'C', 'C', 'C', 'C', 'C', 'C', 'C', 'C', 'C', 'C', 'C', 'C', 'C', 'C', 'C', 'C', 'C', 'C', 'C', 'C', 'C', 'C', 'C', 'C', 'C', 'C']\n"
     ]
    }
   ],
   "source": [
    "Data = A.tolist() + B.tolist() + C.tolist()\n",
    "# 각 값이 속한 그룹 이름\n",
    "Group = ['A'] * len(A) + ['B'] * len(B) + ['C'] * len(C)\n",
    "\n",
    "print(Data)\n",
    "print(Group)"
   ]
  },
  {
   "cell_type": "code",
   "execution_count": 19,
   "id": "7bfc8139-002e-4c06-a1a6-585b9a05a76b",
   "metadata": {},
   "outputs": [
    {
     "name": "stdout",
     "output_type": "stream",
     "text": [
      " Multiple Comparison of Means - Tukey HSD, FWER=0.05 \n",
      "=====================================================\n",
      "group1 group2 meandiff p-adj   lower    upper  reject\n",
      "-----------------------------------------------------\n",
      "     A      B     -1.4 0.9297 -10.5741  7.7741  False\n",
      "     A      C  62.2333    0.0  53.0592 71.4075   True\n",
      "     B      C  63.6333    0.0  54.4592 72.8075   True\n",
      "-----------------------------------------------------\n"
     ]
    }
   ],
   "source": [
    "print(multicomp.pairwise_tukeyhsd(Data, Group))"
   ]
  },
  {
   "cell_type": "markdown",
   "id": "dd5c7386-44d7-4d0e-a7a7-38827975fda1",
   "metadata": {},
   "source": [
    "[해석]\n",
    "\n",
    "결론: [A, B] / [C]로 데이터가 구분됨\n",
    "reject False, p-adj > 0.05\n",
    "A - B는 유의한 차이가 존재하지 않음\n",
    "reject True, p-adj <= 0.05\n",
    "A - C는 유의한 차이 존재\n",
    "reject True, p-adj <= 0.05\n",
    "B - C는 유의한 차이 존재"
   ]
  },
  {
   "cell_type": "code",
   "execution_count": null,
   "id": "bcc1c88e-8223-46e4-a287-49619d479a23",
   "metadata": {},
   "outputs": [],
   "source": []
  },
  {
   "cell_type": "code",
   "execution_count": null,
   "id": "b50057b9-a769-4e9a-97e2-74db30fcc83c",
   "metadata": {},
   "outputs": [],
   "source": []
  }
 ],
 "metadata": {
  "kernelspec": {
   "display_name": "eda_env",
   "language": "python",
   "name": "eda_env"
  },
  "language_info": {
   "codemirror_mode": {
    "name": "ipython",
    "version": 3
   },
   "file_extension": ".py",
   "mimetype": "text/x-python",
   "name": "python",
   "nbconvert_exporter": "python",
   "pygments_lexer": "ipython3",
   "version": "3.10.18"
  }
 },
 "nbformat": 4,
 "nbformat_minor": 5
}
