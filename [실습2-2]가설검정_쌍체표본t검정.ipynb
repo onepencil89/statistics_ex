{
 "cells": [
  {
   "cell_type": "markdown",
   "id": "25fb81c1-9c5c-4bc7-a16f-9cceb443ff94",
   "metadata": {},
   "source": [
    "# 쌍체표본 T검정"
   ]
  },
  {
   "cell_type": "code",
   "execution_count": 3,
   "id": "5e9ccd3c-648b-454b-8b6d-1efb3bd9c343",
   "metadata": {},
   "outputs": [],
   "source": [
    "import numpy as np\n",
    "import pandas as pd\n",
    "from scipy import stats"
   ]
  },
  {
   "cell_type": "code",
   "execution_count": null,
   "id": "cb80cf93-da2b-40f9-9a51-7059596b2ebb",
   "metadata": {},
   "outputs": [],
   "source": []
  },
  {
   "cell_type": "code",
   "execution_count": 7,
   "id": "b1ddbf42-9459-450e-8a6e-d6241e54f6db",
   "metadata": {},
   "outputs": [
    {
     "data": {
      "text/html": [
       "<div>\n",
       "<style scoped>\n",
       "    .dataframe tbody tr th:only-of-type {\n",
       "        vertical-align: middle;\n",
       "    }\n",
       "\n",
       "    .dataframe tbody tr th {\n",
       "        vertical-align: top;\n",
       "    }\n",
       "\n",
       "    .dataframe thead th {\n",
       "        text-align: right;\n",
       "    }\n",
       "</style>\n",
       "<table border=\"1\" class=\"dataframe\">\n",
       "  <thead>\n",
       "    <tr style=\"text-align: right;\">\n",
       "      <th></th>\n",
       "      <th>다이어트전(kg)</th>\n",
       "      <th>다이어트후(kg)</th>\n",
       "    </tr>\n",
       "  </thead>\n",
       "  <tbody>\n",
       "    <tr>\n",
       "      <th>0</th>\n",
       "      <td>87.41</td>\n",
       "      <td>88.30</td>\n",
       "    </tr>\n",
       "    <tr>\n",
       "      <th>1</th>\n",
       "      <td>81.05</td>\n",
       "      <td>76.21</td>\n",
       "    </tr>\n",
       "    <tr>\n",
       "      <th>2</th>\n",
       "      <td>60.72</td>\n",
       "      <td>53.34</td>\n",
       "    </tr>\n",
       "    <tr>\n",
       "      <th>3</th>\n",
       "      <td>81.02</td>\n",
       "      <td>78.21</td>\n",
       "    </tr>\n",
       "    <tr>\n",
       "      <th>4</th>\n",
       "      <td>75.75</td>\n",
       "      <td>76.74</td>\n",
       "    </tr>\n",
       "  </tbody>\n",
       "</table>\n",
       "</div>"
      ],
      "text/plain": [
       "   다이어트전(kg)  다이어트후(kg)\n",
       "0      87.41      88.30\n",
       "1      81.05      76.21\n",
       "2      60.72      53.34\n",
       "3      81.02      78.21\n",
       "4      75.75      76.74"
      ]
     },
     "execution_count": 7,
     "metadata": {},
     "output_type": "execute_result"
    }
   ],
   "source": [
    "# data read\n",
    "\n",
    "data_file = \"다이어트약_효과검증.csv\"\n",
    "df = pd.read_csv(f\"datas2/{data_file}\")\n",
    "df.head()\n",
    "\n"
   ]
  },
  {
   "cell_type": "code",
   "execution_count": 8,
   "id": "53e22ffc-48f0-4743-ae2b-8e65ecf970e9",
   "metadata": {},
   "outputs": [
    {
     "data": {
      "text/plain": [
       "Index(['다이어트전(kg)', '다이어트후(kg)'], dtype='object')"
      ]
     },
     "execution_count": 8,
     "metadata": {},
     "output_type": "execute_result"
    }
   ],
   "source": [
    "df.columns"
   ]
  },
  {
   "cell_type": "code",
   "execution_count": 11,
   "id": "fd7c4ad6-c0b3-4bba-af46-f167d947c044",
   "metadata": {},
   "outputs": [
    {
     "data": {
      "text/plain": [
       "0    87.41\n",
       "1    81.05\n",
       "2    60.72\n",
       "3    81.02\n",
       "4    75.75\n",
       "Name: 다이어트전(kg), dtype: float64"
      ]
     },
     "execution_count": 11,
     "metadata": {},
     "output_type": "execute_result"
    }
   ],
   "source": [
    "# 그룹 나누기\n",
    "# 다이어트 전\n",
    "\n",
    "before = df['다이어트전(kg)']\n",
    "before.head()"
   ]
  },
  {
   "cell_type": "code",
   "execution_count": 12,
   "id": "bcd8f26e-7d51-4075-8384-ec830c18ef68",
   "metadata": {},
   "outputs": [
    {
     "data": {
      "text/plain": [
       "0    88.30\n",
       "1    76.21\n",
       "2    53.34\n",
       "3    78.21\n",
       "4    76.74\n",
       "Name: 다이어트후(kg), dtype: float64"
      ]
     },
     "execution_count": 12,
     "metadata": {},
     "output_type": "execute_result"
    }
   ],
   "source": [
    "after = df['다이어트후(kg)']\n",
    "after.head()"
   ]
  },
  {
   "cell_type": "markdown",
   "id": "aea801b1-1f3b-4b2e-ba99-831500d9434c",
   "metadata": {},
   "source": [
    "## 정규성 검정\n",
    "- before와 after의 차이(d)가 정규분포를 따르는지 판단"
   ]
  },
  {
   "cell_type": "code",
   "execution_count": 18,
   "id": "e97bead1-0f03-4d70-abdc-ba0e93feba20",
   "metadata": {},
   "outputs": [
    {
     "data": {
      "text/plain": [
       "ShapiroResult(statistic=np.float64(0.9724073061486513), pvalue=np.float64(0.2892093416018284))"
      ]
     },
     "execution_count": 18,
     "metadata": {},
     "output_type": "execute_result"
    }
   ],
   "source": [
    "# 유의 사항 : 실험 후 값 - 실험 전 값\n",
    "stats.shapiro(after - before)"
   ]
  },
  {
   "cell_type": "code",
   "execution_count": 15,
   "id": "af8117ef-410e-4501-aa41-4b61487a814e",
   "metadata": {},
   "outputs": [],
   "source": [
    "# p-value > 0.05 이므로, 정규성을 만족한다."
   ]
  },
  {
   "cell_type": "markdown",
   "id": "1c3eb508-a91e-496f-b423-5a31358231c4",
   "metadata": {},
   "source": [
    "[해석]  \n",
    "p-value > 0.05 이므로, 정규분포를 따른다고 할 수 있다."
   ]
  },
  {
   "cell_type": "markdown",
   "id": "fb2881cb-76f7-4446-a059-dcfe1c0121b0",
   "metadata": {},
   "source": [
    "## 쌍체표본 t검정"
   ]
  },
  {
   "cell_type": "code",
   "execution_count": 16,
   "id": "b0737a91-4385-4767-b09f-a71f114c2cec",
   "metadata": {},
   "outputs": [
    {
     "data": {
      "text/plain": [
       "TtestResult(statistic=np.float64(9.70596986565785), pvalue=np.float64(5.370404098342324e-13), df=np.int64(49))"
      ]
     },
     "execution_count": 16,
     "metadata": {},
     "output_type": "execute_result"
    }
   ],
   "source": [
    "stats.ttest_rel(before, after)"
   ]
  },
  {
   "cell_type": "code",
   "execution_count": 17,
   "id": "650a835b-6199-45ae-b13f-60e15ac9691e",
   "metadata": {},
   "outputs": [],
   "source": [
    "# 통계값에 대한 해석을 확인하기."
   ]
  },
  {
   "cell_type": "code",
   "execution_count": null,
   "id": "32ad2af3-bdac-40ad-97e7-90e286faf9ea",
   "metadata": {},
   "outputs": [],
   "source": []
  }
 ],
 "metadata": {
  "kernelspec": {
   "display_name": "eda_env",
   "language": "python",
   "name": "eda_env"
  },
  "language_info": {
   "codemirror_mode": {
    "name": "ipython",
    "version": 3
   },
   "file_extension": ".py",
   "mimetype": "text/x-python",
   "name": "python",
   "nbconvert_exporter": "python",
   "pygments_lexer": "ipython3",
   "version": "3.10.18"
  }
 },
 "nbformat": 4,
 "nbformat_minor": 5
}
