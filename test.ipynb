{
 "cells": [
  {
   "cell_type": "markdown",
   "id": "c3c186bc-ac10-49f0-986e-1176d9dda861",
   "metadata": {},
   "source": [
    "# 주피터 노트북테스트"
   ]
  },
  {
   "cell_type": "code",
   "execution_count": 2,
   "id": "8e5d72ef-93a6-4fb0-9913-7c0b58b87e21",
   "metadata": {},
   "outputs": [
    {
     "name": "stdout",
     "output_type": "stream",
     "text": [
      "hello\n"
     ]
    }
   ],
   "source": [
    "print(\"hello\")"
   ]
  },
  {
   "cell_type": "code",
   "execution_count": null,
   "id": "cd669d25-93b9-45af-b888-780c461d395c",
   "metadata": {},
   "outputs": [],
   "source": [
    "\n"
   ]
  }
 ],
 "metadata": {
  "kernelspec": {
   "display_name": "eda_env",
   "language": "python",
   "name": "eda_env"
  },
  "language_info": {
   "codemirror_mode": {
    "name": "ipython",
    "version": 3
   },
   "file_extension": ".py",
   "mimetype": "text/x-python",
   "name": "python",
   "nbconvert_exporter": "python",
   "pygments_lexer": "ipython3",
   "version": "3.10.18"
  }
 },
 "nbformat": 4,
 "nbformat_minor": 5
}
